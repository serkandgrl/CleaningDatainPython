{
 "cells": [
  {
   "cell_type": "code",
   "execution_count": 1,
   "source": [
    "#Cleaning Data in Python"
   ],
   "outputs": [],
   "metadata": {}
  },
  {
   "cell_type": "code",
   "execution_count": 2,
   "source": [
    "#Import libraries"
   ],
   "outputs": [],
   "metadata": {}
  },
  {
   "cell_type": "code",
   "execution_count": 3,
   "source": [
    "import numpy as np"
   ],
   "outputs": [],
   "metadata": {}
  },
  {
   "cell_type": "code",
   "execution_count": 4,
   "source": [
    "import pandas as pd"
   ],
   "outputs": [],
   "metadata": {}
  },
  {
   "cell_type": "code",
   "execution_count": 5,
   "source": [
    "pd.set_option(\"display.max_columns\", None)"
   ],
   "outputs": [],
   "metadata": {}
  },
  {
   "cell_type": "code",
   "execution_count": 6,
   "source": [
    "pd.set_option(\"display.width\", 500)"
   ],
   "outputs": [],
   "metadata": {}
  },
  {
   "cell_type": "code",
   "execution_count": 7,
   "source": [
    "#Görev 1: Verileri Yükleme ve İnceleme"
   ],
   "outputs": [],
   "metadata": {}
  },
  {
   "cell_type": "code",
   "execution_count": 8,
   "source": [
    "#Yapacağımız ilk şey ham işitsel verileri yüklemek."
   ],
   "outputs": [],
   "metadata": {}
  },
  {
   "cell_type": "code",
   "execution_count": 9,
   "source": [
    "df = pd.read_csv(\"D:\\DataAnalysis\\CleaningDatainPython\\\\audible_uncleaned.csv\")"
   ],
   "outputs": [],
   "metadata": {}
  },
  {
   "cell_type": "code",
   "execution_count": 10,
   "source": [
    "def check_df(dataframe, head = 5):\n",
    "    print(\"-----------------------Shape-----------------------\")\n",
    "    print(dataframe.shape)\n",
    "    print(\"-----------------------Dtypes-----------------------\")\n",
    "    print(dataframe.dtypes)\n",
    "    print(\"-----------------------Head-----------------------\")\n",
    "    print(dataframe.head(head))\n",
    "    print(\"-----------------------Tail-----------------------\")\n",
    "    print(dataframe.tail(head))\n",
    "    print(\"-----------------------NA-----------------------\")\n",
    "    print(dataframe.isnull().sum())\n",
    "    print(\"-----------------------Quantiles-----------------------\")\n",
    "    print(dataframe.describe())"
   ],
   "outputs": [],
   "metadata": {}
  },
  {
   "cell_type": "code",
   "execution_count": 11,
   "source": [
    "check_df(df)"
   ],
   "outputs": [
    {
     "output_type": "stream",
     "name": "stdout",
     "text": [
      "-----------------------Shape-----------------------\n",
      "(87489, 8)\n",
      "-----------------------Dtypes-----------------------\n",
      "name           object\n",
      "author         object\n",
      "narrator       object\n",
      "time           object\n",
      "releasedate    object\n",
      "language       object\n",
      "stars          object\n",
      "price          object\n",
      "dtype: object\n",
      "-----------------------Head-----------------------\n",
      "                                         name                     author                   narrator                time releasedate language                          stars   price\n",
      "0                  Geronimo Stilton #11 & #12  Writtenby:GeronimoStilton      Narratedby:BillLobely   2 hrs and 20 mins    04-08-08  English     5 out of 5 stars34 ratings  468.00\n",
      "1                            The Burning Maze      Writtenby:RickRiordan   Narratedby:RobbieDaymond   13 hrs and 8 mins    01-05-18  English   4.5 out of 5 stars41 ratings  820.00\n",
      "2                                The Deep End       Writtenby:JeffKinney      Narratedby:DanRussell    2 hrs and 3 mins    06-11-20  English   4.5 out of 5 stars38 ratings  410.00\n",
      "3                        Daughter of the Deep      Writtenby:RickRiordan  Narratedby:SoneelaNankani  11 hrs and 16 mins    05-10-21  English   4.5 out of 5 stars12 ratings  615.00\n",
      "4  The Lightning Thief: Percy Jackson, Book 1      Writtenby:RickRiordan  Narratedby:JesseBernstein              10 hrs    13-01-10  English  4.5 out of 5 stars181 ratings  820.00\n",
      "-----------------------Tail-----------------------\n",
      "                            name                    author                 narrator               time releasedate language          stars   price\n",
      "87484  Last Days of the Bus Club    Writtenby:ChrisStewart  Narratedby:ChrisStewart  7 hrs and 34 mins    09-03-17  English  Not rated yet  596.00\n",
      "87485                   The Alps   Writtenby:StephenO'Shea    Narratedby:RobertFass  10 hrs and 7 mins    21-02-17  English  Not rated yet  820.00\n",
      "87486       The Innocents Abroad       Writtenby:MarkTwain     Narratedby:FloGibson  19 hrs and 4 mins    30-12-16  English  Not rated yet  938.00\n",
      "87487      A Sentimental Journey  Writtenby:LaurenceSterne   Narratedby:AntonLesser   4 hrs and 8 mins    23-02-11  English  Not rated yet  680.00\n",
      "87488                     Havana   Writtenby:MarkKurlansky   Narratedby:FleetCooper    6 hrs and 1 min    07-03-17  English  Not rated yet  569.00\n",
      "-----------------------NA-----------------------\n",
      "name           0\n",
      "author         0\n",
      "narrator       0\n",
      "time           0\n",
      "releasedate    0\n",
      "language       0\n",
      "stars          0\n",
      "price          0\n",
      "dtype: int64\n",
      "-----------------------Quantiles-----------------------\n",
      "                  name              author              narrator    time releasedate language          stars   price\n",
      "count            87489               87489                 87489   87489       87489    87489          87489   87489\n",
      "unique           82767               48374                 29717    2284        5058       36            665    1011\n",
      "top     The Art of War  Writtenby:矢島雅弘,石橋遊  Narratedby:anonymous  2 mins    16-05-18  English  Not rated yet  586.00\n",
      "freq                20                 874                  1034     372         773    61884          72417    5533\n"
     ]
    }
   ],
   "metadata": {}
  },
  {
   "cell_type": "code",
   "execution_count": 12,
   "source": [
    "#'ad' - Sesli kitabın adı."
   ],
   "outputs": [],
   "metadata": {}
  },
  {
   "cell_type": "code",
   "execution_count": 13,
   "source": [
    "#'yazar' - Sesli kitabın yazarı."
   ],
   "outputs": [],
   "metadata": {}
  },
  {
   "cell_type": "code",
   "execution_count": 14,
   "source": [
    "#'anlatıcı' - Sesli kitabın anlatıcısı."
   ],
   "outputs": [],
   "metadata": {}
  },
  {
   "cell_type": "code",
   "execution_count": 15,
   "source": [
    "#'time' - Saat ve dakika cinsinden sesli kitabın süresi."
   ],
   "outputs": [],
   "metadata": {}
  },
  {
   "cell_type": "code",
   "execution_count": 16,
   "source": [
    "#'releasedate' - Sesli kitabın yayınlandığı tarih."
   ],
   "outputs": [],
   "metadata": {}
  },
  {
   "cell_type": "code",
   "execution_count": 17,
   "source": [
    "#'dil' - Sesli kitabın dili."
   ],
   "outputs": [],
   "metadata": {}
  },
  {
   "cell_type": "code",
   "execution_count": 18,
   "source": [
    "#'yıldız' - Ortalama yıldız sayısı (5 üzerinden) ve derecelendirme sayısı (varsa)."
   ],
   "outputs": [],
   "metadata": {}
  },
  {
   "cell_type": "code",
   "execution_count": 19,
   "source": [
    "#-'fiyat' - Sesli kitabın INR (Hint Rupisi) cinsinden fiyatı."
   ],
   "outputs": [],
   "metadata": {}
  },
  {
   "cell_type": "code",
   "execution_count": 20,
   "source": [
    "#Görev 2: Yazar ve Anlatıcı sütunlarındaki metin verilerini temizleme"
   ],
   "outputs": [],
   "metadata": {}
  },
  {
   "cell_type": "code",
   "execution_count": 21,
   "source": [
    "#Yazar ve anlatıcı gibi bazı metin sütunlarını temizlemeye başlayacağız. Bu sütunlardaki metnin Yazan: ve Anlatan: bölümlerini kaldırabiliriz."
   ],
   "outputs": [],
   "metadata": {}
  },
  {
   "cell_type": "code",
   "execution_count": 22,
   "source": [
    "#Yazar sütunundan 'Writtenby:' öğesini kaldırın"
   ],
   "outputs": [],
   "metadata": {}
  },
  {
   "cell_type": "code",
   "execution_count": 23,
   "source": [
    "#Anlatıcı sütunundan 'Narratedby:' ifadesini kaldırın"
   ],
   "outputs": [],
   "metadata": {}
  },
  {
   "cell_type": "code",
   "execution_count": 24,
   "source": [
    "#sonuçları kontrol et"
   ],
   "outputs": [],
   "metadata": {}
  },
  {
   "cell_type": "code",
   "execution_count": 25,
   "source": [
    "df[\"author\"] = df[\"author\"].str.replace(\"Writtenby:\", \"\")"
   ],
   "outputs": [],
   "metadata": {}
  },
  {
   "cell_type": "code",
   "execution_count": 26,
   "source": [
    "df[\"narrator\"] = df[\"narrator\"].str.replace(\"Narratedby:\", \"\")"
   ],
   "outputs": [],
   "metadata": {}
  },
  {
   "cell_type": "code",
   "execution_count": 27,
   "source": [
    "df[[\"author\", \"narrator\"]]"
   ],
   "outputs": [
    {
     "output_type": "execute_result",
     "data": {
      "text/html": [
       "<div>\n",
       "<style scoped>\n",
       "    .dataframe tbody tr th:only-of-type {\n",
       "        vertical-align: middle;\n",
       "    }\n",
       "\n",
       "    .dataframe tbody tr th {\n",
       "        vertical-align: top;\n",
       "    }\n",
       "\n",
       "    .dataframe thead th {\n",
       "        text-align: right;\n",
       "    }\n",
       "</style>\n",
       "<table border=\"1\" class=\"dataframe\">\n",
       "  <thead>\n",
       "    <tr style=\"text-align: right;\">\n",
       "      <th></th>\n",
       "      <th>author</th>\n",
       "      <th>narrator</th>\n",
       "    </tr>\n",
       "  </thead>\n",
       "  <tbody>\n",
       "    <tr>\n",
       "      <th>0</th>\n",
       "      <td>GeronimoStilton</td>\n",
       "      <td>BillLobely</td>\n",
       "    </tr>\n",
       "    <tr>\n",
       "      <th>1</th>\n",
       "      <td>RickRiordan</td>\n",
       "      <td>RobbieDaymond</td>\n",
       "    </tr>\n",
       "    <tr>\n",
       "      <th>2</th>\n",
       "      <td>JeffKinney</td>\n",
       "      <td>DanRussell</td>\n",
       "    </tr>\n",
       "    <tr>\n",
       "      <th>3</th>\n",
       "      <td>RickRiordan</td>\n",
       "      <td>SoneelaNankani</td>\n",
       "    </tr>\n",
       "    <tr>\n",
       "      <th>4</th>\n",
       "      <td>RickRiordan</td>\n",
       "      <td>JesseBernstein</td>\n",
       "    </tr>\n",
       "    <tr>\n",
       "      <th>...</th>\n",
       "      <td>...</td>\n",
       "      <td>...</td>\n",
       "    </tr>\n",
       "    <tr>\n",
       "      <th>87484</th>\n",
       "      <td>ChrisStewart</td>\n",
       "      <td>ChrisStewart</td>\n",
       "    </tr>\n",
       "    <tr>\n",
       "      <th>87485</th>\n",
       "      <td>StephenO'Shea</td>\n",
       "      <td>RobertFass</td>\n",
       "    </tr>\n",
       "    <tr>\n",
       "      <th>87486</th>\n",
       "      <td>MarkTwain</td>\n",
       "      <td>FloGibson</td>\n",
       "    </tr>\n",
       "    <tr>\n",
       "      <th>87487</th>\n",
       "      <td>LaurenceSterne</td>\n",
       "      <td>AntonLesser</td>\n",
       "    </tr>\n",
       "    <tr>\n",
       "      <th>87488</th>\n",
       "      <td>MarkKurlansky</td>\n",
       "      <td>FleetCooper</td>\n",
       "    </tr>\n",
       "  </tbody>\n",
       "</table>\n",
       "<p>87489 rows × 2 columns</p>\n",
       "</div>"
      ],
      "text/plain": [
       "                author        narrator\n",
       "0      GeronimoStilton      BillLobely\n",
       "1          RickRiordan   RobbieDaymond\n",
       "2           JeffKinney      DanRussell\n",
       "3          RickRiordan  SoneelaNankani\n",
       "4          RickRiordan  JesseBernstein\n",
       "...                ...             ...\n",
       "87484     ChrisStewart    ChrisStewart\n",
       "87485    StephenO'Shea      RobertFass\n",
       "87486        MarkTwain       FloGibson\n",
       "87487   LaurenceSterne     AntonLesser\n",
       "87488    MarkKurlansky     FleetCooper\n",
       "\n",
       "[87489 rows x 2 columns]"
      ]
     },
     "metadata": {},
     "execution_count": 27
    }
   ],
   "metadata": {}
  },
  {
   "cell_type": "code",
   "execution_count": 28,
   "source": [
    "#Görev 3: Yıldızların sayısını ve derecelendirmeleri Yıldızlar sütunundan çıkarın."
   ],
   "outputs": [],
   "metadata": {}
  },
  {
   "cell_type": "code",
   "execution_count": 29,
   "source": [
    "#Yıldızlar sütunu, yıldız sayısını ve puan sayısını birleştirir. Bunu sayılara çevirelim ve iki sütuna ayıralım: rating_stars ve n_ratings."
   ],
   "outputs": [],
   "metadata": {}
  },
  {
   "cell_type": "code",
   "execution_count": 30,
   "source": [
    "df[\"stars\"].sample(n = 10)"
   ],
   "outputs": [
    {
     "output_type": "execute_result",
     "data": {
      "text/plain": [
       "46871                  Not rated yet\n",
       "58951                  Not rated yet\n",
       "32072    4.5 out of 5 stars3 ratings\n",
       "35182                  Not rated yet\n",
       "23976     5 out of 5 stars12 ratings\n",
       "28950                  Not rated yet\n",
       "86431                  Not rated yet\n",
       "4530                   Not rated yet\n",
       "4183                   Not rated yet\n",
       "21941                  Not rated yet\n",
       "Name: stars, dtype: object"
      ]
     },
     "metadata": {},
     "execution_count": 30
    }
   ],
   "metadata": {}
  },
  {
   "cell_type": "code",
   "execution_count": 31,
   "source": [
    "df[df[\"stars\"] != \"Not rated yet\"][\"stars\"].sample(n = 10)"
   ],
   "outputs": [
    {
     "output_type": "execute_result",
     "data": {
      "text/plain": [
       "58023      5 out of 5 stars6 ratings\n",
       "19806    4.5 out of 5 stars2 ratings\n",
       "57407    4.5 out of 5 stars7 ratings\n",
       "86970       5 out of 5 stars1 rating\n",
       "30897    4.5 out of 5 stars3 ratings\n",
       "55018       4 out of 5 stars1 rating\n",
       "14405       4 out of 5 stars1 rating\n",
       "48282    4.5 out of 5 stars4 ratings\n",
       "38863    4.5 out of 5 stars2 ratings\n",
       "27088       4 out of 5 stars1 rating\n",
       "Name: stars, dtype: object"
      ]
     },
     "metadata": {},
     "execution_count": 31
    }
   ],
   "metadata": {}
  },
  {
   "cell_type": "code",
   "execution_count": 32,
   "source": [
    "#'Not rated yet' ifadesini NaN ile değiştirin"
   ],
   "outputs": [],
   "metadata": {}
  },
  {
   "cell_type": "code",
   "execution_count": 33,
   "source": [
    "df[\"stars\"].replace(\"Not rated yet\", np.nan, inplace = True)"
   ],
   "outputs": [],
   "metadata": {}
  },
  {
   "cell_type": "code",
   "execution_count": 34,
   "source": [
    "#Yıldız sayısını rating_stars'a çıkarın ve float'a dönüştürün"
   ],
   "outputs": [],
   "metadata": {}
  },
  {
   "cell_type": "code",
   "execution_count": 35,
   "source": [
    "df[\"rating_stars\"] = df[\"stars\"].str.extract(\"^([\\d.]+)\").astype(float)"
   ],
   "outputs": [],
   "metadata": {}
  },
  {
   "cell_type": "code",
   "execution_count": 36,
   "source": [
    "#Virgülü değiştirin, derecelendirme sayısını n_ratings'e çıkarın ve float'a çevirin"
   ],
   "outputs": [],
   "metadata": {}
  },
  {
   "cell_type": "code",
   "execution_count": 37,
   "source": [
    "df[\"n_ratings\"] = df[\"stars\"].str.replace(\",\", \"\").str.extract(\"(\\d+) rating\").astype(float)"
   ],
   "outputs": [],
   "metadata": {}
  },
  {
   "cell_type": "code",
   "execution_count": 38,
   "source": [
    "df[[\"rating_stars\", \"n_ratings\"]]"
   ],
   "outputs": [
    {
     "output_type": "execute_result",
     "data": {
      "text/html": [
       "<div>\n",
       "<style scoped>\n",
       "    .dataframe tbody tr th:only-of-type {\n",
       "        vertical-align: middle;\n",
       "    }\n",
       "\n",
       "    .dataframe tbody tr th {\n",
       "        vertical-align: top;\n",
       "    }\n",
       "\n",
       "    .dataframe thead th {\n",
       "        text-align: right;\n",
       "    }\n",
       "</style>\n",
       "<table border=\"1\" class=\"dataframe\">\n",
       "  <thead>\n",
       "    <tr style=\"text-align: right;\">\n",
       "      <th></th>\n",
       "      <th>rating_stars</th>\n",
       "      <th>n_ratings</th>\n",
       "    </tr>\n",
       "  </thead>\n",
       "  <tbody>\n",
       "    <tr>\n",
       "      <th>0</th>\n",
       "      <td>5.0</td>\n",
       "      <td>34.0</td>\n",
       "    </tr>\n",
       "    <tr>\n",
       "      <th>1</th>\n",
       "      <td>4.5</td>\n",
       "      <td>41.0</td>\n",
       "    </tr>\n",
       "    <tr>\n",
       "      <th>2</th>\n",
       "      <td>4.5</td>\n",
       "      <td>38.0</td>\n",
       "    </tr>\n",
       "    <tr>\n",
       "      <th>3</th>\n",
       "      <td>4.5</td>\n",
       "      <td>12.0</td>\n",
       "    </tr>\n",
       "    <tr>\n",
       "      <th>4</th>\n",
       "      <td>4.5</td>\n",
       "      <td>181.0</td>\n",
       "    </tr>\n",
       "    <tr>\n",
       "      <th>...</th>\n",
       "      <td>...</td>\n",
       "      <td>...</td>\n",
       "    </tr>\n",
       "    <tr>\n",
       "      <th>87484</th>\n",
       "      <td>NaN</td>\n",
       "      <td>NaN</td>\n",
       "    </tr>\n",
       "    <tr>\n",
       "      <th>87485</th>\n",
       "      <td>NaN</td>\n",
       "      <td>NaN</td>\n",
       "    </tr>\n",
       "    <tr>\n",
       "      <th>87486</th>\n",
       "      <td>NaN</td>\n",
       "      <td>NaN</td>\n",
       "    </tr>\n",
       "    <tr>\n",
       "      <th>87487</th>\n",
       "      <td>NaN</td>\n",
       "      <td>NaN</td>\n",
       "    </tr>\n",
       "    <tr>\n",
       "      <th>87488</th>\n",
       "      <td>NaN</td>\n",
       "      <td>NaN</td>\n",
       "    </tr>\n",
       "  </tbody>\n",
       "</table>\n",
       "<p>87489 rows × 2 columns</p>\n",
       "</div>"
      ],
      "text/plain": [
       "       rating_stars  n_ratings\n",
       "0               5.0       34.0\n",
       "1               4.5       41.0\n",
       "2               4.5       38.0\n",
       "3               4.5       12.0\n",
       "4               4.5      181.0\n",
       "...             ...        ...\n",
       "87484           NaN        NaN\n",
       "87485           NaN        NaN\n",
       "87486           NaN        NaN\n",
       "87487           NaN        NaN\n",
       "87488           NaN        NaN\n",
       "\n",
       "[87489 rows x 2 columns]"
      ]
     },
     "metadata": {},
     "execution_count": 38
    }
   ],
   "metadata": {}
  },
  {
   "cell_type": "code",
   "execution_count": 39,
   "source": [
    "df.drop(columns = [\"stars\"], axis = 1, inplace = True)"
   ],
   "outputs": [],
   "metadata": {}
  },
  {
   "cell_type": "code",
   "execution_count": 40,
   "source": [
    "#Görev 4: Veri türlerini değiştirin"
   ],
   "outputs": [],
   "metadata": {}
  },
  {
   "cell_type": "code",
   "execution_count": 41,
   "source": [
    "#Bir diğer önemli adım ise verilerimizin doğru veri tiplerinde olması."
   ],
   "outputs": [],
   "metadata": {}
  },
  {
   "cell_type": "code",
   "execution_count": 42,
   "source": [
    "#Fiyatı float ayarla"
   ],
   "outputs": [],
   "metadata": {}
  },
  {
   "cell_type": "code",
   "execution_count": 43,
   "source": [
    "#Rating_stars'ı kategoriye çevir"
   ],
   "outputs": [],
   "metadata": {}
  },
  {
   "cell_type": "code",
   "execution_count": 44,
   "source": [
    "#Yayın tarihini tarih saatine dönüştür"
   ],
   "outputs": [],
   "metadata": {}
  },
  {
   "cell_type": "code",
   "execution_count": 45,
   "source": [
    "df[\"price\"] = df[\"price\"].str.replace(\",\", \"\")"
   ],
   "outputs": [],
   "metadata": {}
  },
  {
   "cell_type": "code",
   "execution_count": 46,
   "source": [
    "df[\"price\"] = df[\"price\"].str.replace(\"Free\", \"0\")"
   ],
   "outputs": [],
   "metadata": {}
  },
  {
   "cell_type": "code",
   "execution_count": 47,
   "source": [
    "df[\"price\"] = df[\"price\"].astype(float)"
   ],
   "outputs": [],
   "metadata": {}
  },
  {
   "cell_type": "code",
   "execution_count": 48,
   "source": [
    "df[\"rating_stars\"].unique()"
   ],
   "outputs": [
    {
     "output_type": "execute_result",
     "data": {
      "text/plain": [
       "array([5. , 4.5, 4. , nan, 3.5, 3. , 1. , 2. , 2.5, 1.5])"
      ]
     },
     "metadata": {},
     "execution_count": 48
    }
   ],
   "metadata": {}
  },
  {
   "cell_type": "code",
   "execution_count": 49,
   "source": [
    "df[\"rating_stars\"] = df[\"rating_stars\"].astype(\"category\")"
   ],
   "outputs": [],
   "metadata": {}
  },
  {
   "cell_type": "code",
   "execution_count": 50,
   "source": [
    "df[\"releasedate\"] = pd.to_datetime(df[\"releasedate\"]);"
   ],
   "outputs": [
    {
     "output_type": "stream",
     "name": "stderr",
     "text": [
      "<ipython-input-50-6d14cc80b325>:1: UserWarning: Could not infer format, so each element will be parsed individually, falling back to `dateutil`. To ensure parsing is consistent and as-expected, please specify a format.\n",
      "  df[\"releasedate\"] = pd.to_datetime(df[\"releasedate\"]);\n"
     ]
    }
   ],
   "metadata": {}
  },
  {
   "cell_type": "code",
   "execution_count": 51,
   "source": [
    "df.info()"
   ],
   "outputs": [
    {
     "output_type": "stream",
     "name": "stdout",
     "text": [
      "<class 'pandas.core.frame.DataFrame'>\n",
      "RangeIndex: 87489 entries, 0 to 87488\n",
      "Data columns (total 9 columns):\n",
      " #   Column        Non-Null Count  Dtype         \n",
      "---  ------        --------------  -----         \n",
      " 0   name          87489 non-null  object        \n",
      " 1   author        87489 non-null  object        \n",
      " 2   narrator      87489 non-null  object        \n",
      " 3   time          87489 non-null  object        \n",
      " 4   releasedate   87489 non-null  datetime64[ns]\n",
      " 5   language      87489 non-null  object        \n",
      " 6   price         87489 non-null  float64       \n",
      " 7   rating_stars  15072 non-null  category      \n",
      " 8   n_ratings     15072 non-null  float64       \n",
      "dtypes: category(1), datetime64[ns](1), float64(2), object(5)\n",
      "memory usage: 5.4+ MB\n"
     ]
    }
   ],
   "metadata": {}
  },
  {
   "cell_type": "code",
   "execution_count": 52,
   "source": [
    "#Görev 5: Zaman sütunundan saatleri ve dakikaları çıkarın"
   ],
   "outputs": [],
   "metadata": {}
  },
  {
   "cell_type": "code",
   "execution_count": 53,
   "source": [
    "#Zaman sütunu, saat ve dakika sayısını tek bir sütunda birleştirir. Bilgileri yeni bir time_ minutes sütununa dönüştürmek ve birleştirmek istiyoruz."
   ],
   "outputs": [],
   "metadata": {}
  },
  {
   "cell_type": "code",
   "execution_count": 54,
   "source": [
    "df[\"time\"].sample(n = 10)"
   ],
   "outputs": [
    {
     "output_type": "execute_result",
     "data": {
      "text/plain": [
       "56036     7 hrs and 47 mins\n",
       "76585     8 hrs and 57 mins\n",
       "72909     4 hrs and 39 mins\n",
       "3609                25 mins\n",
       "58390      3 hrs and 8 mins\n",
       "78740    11 hrs and 56 mins\n",
       "25838     9 hrs and 33 mins\n",
       "76700    19 hrs and 39 mins\n",
       "17801      1 hr and 41 mins\n",
       "62882    14 hrs and 28 mins\n",
       "Name: time, dtype: object"
      ]
     },
     "metadata": {},
     "execution_count": 54
    }
   ],
   "metadata": {}
  },
  {
   "cell_type": "code",
   "execution_count": 55,
   "source": [
    "df[\"time\"][df[\"time\"].str.contains(\"minute\")].sample(n = 10)"
   ],
   "outputs": [
    {
     "output_type": "execute_result",
     "data": {
      "text/plain": [
       "87133    Less than 1 minute\n",
       "10189    Less than 1 minute\n",
       "10896    Less than 1 minute\n",
       "6861     Less than 1 minute\n",
       "39027    Less than 1 minute\n",
       "7170     Less than 1 minute\n",
       "87155    Less than 1 minute\n",
       "10894    Less than 1 minute\n",
       "87180    Less than 1 minute\n",
       "87058    Less than 1 minute\n",
       "Name: time, dtype: object"
      ]
     },
     "metadata": {},
     "execution_count": 55
    }
   ],
   "metadata": {}
  },
  {
   "cell_type": "code",
   "execution_count": 56,
   "source": [
    "df[\"time\"] = df[\"time\"].str.replace(\"hrs\", \"hr\")"
   ],
   "outputs": [],
   "metadata": {}
  },
  {
   "cell_type": "code",
   "execution_count": 57,
   "source": [
    "df[\"time\"] = df[\"time\"].str.replace(\"mins\", \"min\")"
   ],
   "outputs": [],
   "metadata": {}
  },
  {
   "cell_type": "code",
   "execution_count": 58,
   "source": [
    "df[\"time\"] = df[\"time\"].str.replace(\"Less than 1 minute\", \"1 min\")"
   ],
   "outputs": [],
   "metadata": {}
  },
  {
   "cell_type": "code",
   "execution_count": 59,
   "source": [
    "df[\"time\"]"
   ],
   "outputs": [
    {
     "output_type": "execute_result",
     "data": {
      "text/plain": [
       "0         2 hr and 20 min\n",
       "1         13 hr and 8 min\n",
       "2          2 hr and 3 min\n",
       "3        11 hr and 16 min\n",
       "4                   10 hr\n",
       "               ...       \n",
       "87484     7 hr and 34 min\n",
       "87485     10 hr and 7 min\n",
       "87486     19 hr and 4 min\n",
       "87487      4 hr and 8 min\n",
       "87488      6 hr and 1 min\n",
       "Name: time, Length: 87489, dtype: object"
      ]
     },
     "metadata": {},
     "execution_count": 59
    }
   ],
   "metadata": {}
  },
  {
   "cell_type": "code",
   "execution_count": 60,
   "source": [
    "hours = df[\"time\"].str.extract(\"(\\d+) hr\").fillna(0).astype(int)"
   ],
   "outputs": [],
   "metadata": {}
  },
  {
   "cell_type": "code",
   "execution_count": 61,
   "source": [
    "mins = df[\"time\"].str.extract(\"(\\d+) min\").fillna(0).astype(int)"
   ],
   "outputs": [],
   "metadata": {}
  },
  {
   "cell_type": "code",
   "execution_count": 62,
   "source": [
    "df[\"time_mins\"] = hours * 60 + mins"
   ],
   "outputs": [],
   "metadata": {}
  },
  {
   "cell_type": "code",
   "execution_count": 63,
   "source": [
    "df[[\"time_mins\"]]"
   ],
   "outputs": [
    {
     "output_type": "execute_result",
     "data": {
      "text/html": [
       "<div>\n",
       "<style scoped>\n",
       "    .dataframe tbody tr th:only-of-type {\n",
       "        vertical-align: middle;\n",
       "    }\n",
       "\n",
       "    .dataframe tbody tr th {\n",
       "        vertical-align: top;\n",
       "    }\n",
       "\n",
       "    .dataframe thead th {\n",
       "        text-align: right;\n",
       "    }\n",
       "</style>\n",
       "<table border=\"1\" class=\"dataframe\">\n",
       "  <thead>\n",
       "    <tr style=\"text-align: right;\">\n",
       "      <th></th>\n",
       "      <th>time_mins</th>\n",
       "    </tr>\n",
       "  </thead>\n",
       "  <tbody>\n",
       "    <tr>\n",
       "      <th>0</th>\n",
       "      <td>140</td>\n",
       "    </tr>\n",
       "    <tr>\n",
       "      <th>1</th>\n",
       "      <td>788</td>\n",
       "    </tr>\n",
       "    <tr>\n",
       "      <th>2</th>\n",
       "      <td>123</td>\n",
       "    </tr>\n",
       "    <tr>\n",
       "      <th>3</th>\n",
       "      <td>676</td>\n",
       "    </tr>\n",
       "    <tr>\n",
       "      <th>4</th>\n",
       "      <td>600</td>\n",
       "    </tr>\n",
       "    <tr>\n",
       "      <th>...</th>\n",
       "      <td>...</td>\n",
       "    </tr>\n",
       "    <tr>\n",
       "      <th>87484</th>\n",
       "      <td>454</td>\n",
       "    </tr>\n",
       "    <tr>\n",
       "      <th>87485</th>\n",
       "      <td>607</td>\n",
       "    </tr>\n",
       "    <tr>\n",
       "      <th>87486</th>\n",
       "      <td>1144</td>\n",
       "    </tr>\n",
       "    <tr>\n",
       "      <th>87487</th>\n",
       "      <td>248</td>\n",
       "    </tr>\n",
       "    <tr>\n",
       "      <th>87488</th>\n",
       "      <td>361</td>\n",
       "    </tr>\n",
       "  </tbody>\n",
       "</table>\n",
       "<p>87489 rows × 1 columns</p>\n",
       "</div>"
      ],
      "text/plain": [
       "       time_mins\n",
       "0            140\n",
       "1            788\n",
       "2            123\n",
       "3            676\n",
       "4            600\n",
       "...          ...\n",
       "87484        454\n",
       "87485        607\n",
       "87486       1144\n",
       "87487        248\n",
       "87488        361\n",
       "\n",
       "[87489 rows x 1 columns]"
      ]
     },
     "metadata": {},
     "execution_count": 63
    }
   ],
   "metadata": {}
  },
  {
   "cell_type": "code",
   "execution_count": 64,
   "source": [
    "df.drop(columns = [\"time\"], axis = 1, inplace = True)"
   ],
   "outputs": [],
   "metadata": {}
  },
  {
   "cell_type": "code",
   "execution_count": 65,
   "source": [
    "df.head()"
   ],
   "outputs": [
    {
     "output_type": "execute_result",
     "data": {
      "text/html": [
       "<div>\n",
       "<style scoped>\n",
       "    .dataframe tbody tr th:only-of-type {\n",
       "        vertical-align: middle;\n",
       "    }\n",
       "\n",
       "    .dataframe tbody tr th {\n",
       "        vertical-align: top;\n",
       "    }\n",
       "\n",
       "    .dataframe thead th {\n",
       "        text-align: right;\n",
       "    }\n",
       "</style>\n",
       "<table border=\"1\" class=\"dataframe\">\n",
       "  <thead>\n",
       "    <tr style=\"text-align: right;\">\n",
       "      <th></th>\n",
       "      <th>name</th>\n",
       "      <th>author</th>\n",
       "      <th>narrator</th>\n",
       "      <th>releasedate</th>\n",
       "      <th>language</th>\n",
       "      <th>price</th>\n",
       "      <th>rating_stars</th>\n",
       "      <th>n_ratings</th>\n",
       "      <th>time_mins</th>\n",
       "    </tr>\n",
       "  </thead>\n",
       "  <tbody>\n",
       "    <tr>\n",
       "      <th>0</th>\n",
       "      <td>Geronimo Stilton #11 &amp; #12</td>\n",
       "      <td>GeronimoStilton</td>\n",
       "      <td>BillLobely</td>\n",
       "      <td>2008-04-08</td>\n",
       "      <td>English</td>\n",
       "      <td>468.0</td>\n",
       "      <td>5.0</td>\n",
       "      <td>34.0</td>\n",
       "      <td>140</td>\n",
       "    </tr>\n",
       "    <tr>\n",
       "      <th>1</th>\n",
       "      <td>The Burning Maze</td>\n",
       "      <td>RickRiordan</td>\n",
       "      <td>RobbieDaymond</td>\n",
       "      <td>2018-01-05</td>\n",
       "      <td>English</td>\n",
       "      <td>820.0</td>\n",
       "      <td>4.5</td>\n",
       "      <td>41.0</td>\n",
       "      <td>788</td>\n",
       "    </tr>\n",
       "    <tr>\n",
       "      <th>2</th>\n",
       "      <td>The Deep End</td>\n",
       "      <td>JeffKinney</td>\n",
       "      <td>DanRussell</td>\n",
       "      <td>2020-06-11</td>\n",
       "      <td>English</td>\n",
       "      <td>410.0</td>\n",
       "      <td>4.5</td>\n",
       "      <td>38.0</td>\n",
       "      <td>123</td>\n",
       "    </tr>\n",
       "    <tr>\n",
       "      <th>3</th>\n",
       "      <td>Daughter of the Deep</td>\n",
       "      <td>RickRiordan</td>\n",
       "      <td>SoneelaNankani</td>\n",
       "      <td>2021-05-10</td>\n",
       "      <td>English</td>\n",
       "      <td>615.0</td>\n",
       "      <td>4.5</td>\n",
       "      <td>12.0</td>\n",
       "      <td>676</td>\n",
       "    </tr>\n",
       "    <tr>\n",
       "      <th>4</th>\n",
       "      <td>The Lightning Thief: Percy Jackson, Book 1</td>\n",
       "      <td>RickRiordan</td>\n",
       "      <td>JesseBernstein</td>\n",
       "      <td>2010-01-13</td>\n",
       "      <td>English</td>\n",
       "      <td>820.0</td>\n",
       "      <td>4.5</td>\n",
       "      <td>181.0</td>\n",
       "      <td>600</td>\n",
       "    </tr>\n",
       "  </tbody>\n",
       "</table>\n",
       "</div>"
      ],
      "text/plain": [
       "                                         name           author        narrator releasedate language  price rating_stars  n_ratings  time_mins\n",
       "0                  Geronimo Stilton #11 & #12  GeronimoStilton      BillLobely  2008-04-08  English  468.0          5.0       34.0        140\n",
       "1                            The Burning Maze      RickRiordan   RobbieDaymond  2018-01-05  English  820.0          4.5       41.0        788\n",
       "2                                The Deep End       JeffKinney      DanRussell  2020-06-11  English  410.0          4.5       38.0        123\n",
       "3                        Daughter of the Deep      RickRiordan  SoneelaNankani  2021-05-10  English  615.0          4.5       12.0        676\n",
       "4  The Lightning Thief: Percy Jackson, Book 1      RickRiordan  JesseBernstein  2010-01-13  English  820.0          4.5      181.0        600"
      ]
     },
     "metadata": {},
     "execution_count": 65
    }
   ],
   "metadata": {}
  },
  {
   "cell_type": "code",
   "execution_count": 66,
   "source": [
    "df.info()"
   ],
   "outputs": [
    {
     "output_type": "stream",
     "name": "stdout",
     "text": [
      "<class 'pandas.core.frame.DataFrame'>\n",
      "RangeIndex: 87489 entries, 0 to 87488\n",
      "Data columns (total 9 columns):\n",
      " #   Column        Non-Null Count  Dtype         \n",
      "---  ------        --------------  -----         \n",
      " 0   name          87489 non-null  object        \n",
      " 1   author        87489 non-null  object        \n",
      " 2   narrator      87489 non-null  object        \n",
      " 3   releasedate   87489 non-null  datetime64[ns]\n",
      " 4   language      87489 non-null  object        \n",
      " 5   price         87489 non-null  float64       \n",
      " 6   rating_stars  15072 non-null  category      \n",
      " 7   n_ratings     15072 non-null  float64       \n",
      " 8   time_mins     87489 non-null  int32         \n",
      "dtypes: category(1), datetime64[ns](1), float64(2), int32(1), object(4)\n",
      "memory usage: 5.1+ MB\n"
     ]
    }
   ],
   "metadata": {}
  },
  {
   "cell_type": "code",
   "execution_count": 67,
   "source": [
    "#Görev 6: Veri aralıklarını kontrol edin"
   ],
   "outputs": [],
   "metadata": {}
  },
  {
   "cell_type": "code",
   "execution_count": 68,
   "source": [
    "#Bir diğer önemli adım ise sütunlarımızdaki değerlerin beklenen aralıklarda olduğunu ve aralık dışı değerlere sahip olmadığımızı doğrulamaktır."
   ],
   "outputs": [],
   "metadata": {}
  },
  {
   "cell_type": "code",
   "execution_count": 69,
   "source": [
    "#Ht aralıklarını ve dağılımın şeklini görsel olarak incelemek için sayısal sütunların bir histogramını oluşturalım:"
   ],
   "outputs": [],
   "metadata": {}
  },
  {
   "cell_type": "code",
   "execution_count": 70,
   "source": [
    "df.hist(figsize = (10, 10), bins = 100)"
   ],
   "outputs": [
    {
     "output_type": "execute_result",
     "data": {
      "text/plain": [
       "array([[<Axes: title={'center': 'releasedate'}>,\n",
       "        <Axes: title={'center': 'price'}>],\n",
       "       [<Axes: title={'center': 'n_ratings'}>,\n",
       "        <Axes: title={'center': 'time_mins'}>]], dtype=object)"
      ]
     },
     "metadata": {},
     "execution_count": 70
    },
    {
     "output_type": "display_data",
     "data": {
      "image/png": "[encoded data removed]",
      "text/plain": [
       "<Figure size 1000x1000 with 4 Axes>"
      ]
     },
     "metadata": {}
    }
   ],
   "metadata": {}
  },
  {
   "cell_type": "code",
   "execution_count": 71,
   "source": [
    "df.describe().T"
   ],
   "outputs": [
    {
     "output_type": "execute_result",
     "data": {
      "text/html": [
       "<div>\n",
       "<style scoped>\n",
       "    .dataframe tbody tr th:only-of-type {\n",
       "        vertical-align: middle;\n",
       "    }\n",
       "\n",
       "    .dataframe tbody tr th {\n",
       "        vertical-align: top;\n",
       "    }\n",
       "\n",
       "    .dataframe thead th {\n",
       "        text-align: right;\n",
       "    }\n",
       "</style>\n",
       "<table border=\"1\" class=\"dataframe\">\n",
       "  <thead>\n",
       "    <tr style=\"text-align: right;\">\n",
       "      <th></th>\n",
       "      <th>count</th>\n",
       "      <th>mean</th>\n",
       "      <th>min</th>\n",
       "      <th>25%</th>\n",
       "      <th>50%</th>\n",
       "      <th>75%</th>\n",
       "      <th>max</th>\n",
       "      <th>std</th>\n",
       "    </tr>\n",
       "  </thead>\n",
       "  <tbody>\n",
       "    <tr>\n",
       "      <th>releasedate</th>\n",
       "      <td>87489</td>\n",
       "      <td>2018-06-22 01:35:29.780886528</td>\n",
       "      <td>1998-12-27 00:00:00</td>\n",
       "      <td>2016-08-30 00:00:00</td>\n",
       "      <td>2020-01-30 00:00:00</td>\n",
       "      <td>2021-08-04 00:00:00</td>\n",
       "      <td>2025-11-14 00:00:00</td>\n",
       "      <td>NaN</td>\n",
       "    </tr>\n",
       "    <tr>\n",
       "      <th>price</th>\n",
       "      <td>87489.0</td>\n",
       "      <td>559.009246</td>\n",
       "      <td>0.0</td>\n",
       "      <td>268.0</td>\n",
       "      <td>585.0</td>\n",
       "      <td>755.0</td>\n",
       "      <td>7198.0</td>\n",
       "      <td>336.096642</td>\n",
       "    </tr>\n",
       "    <tr>\n",
       "      <th>n_ratings</th>\n",
       "      <td>15072.0</td>\n",
       "      <td>21.61319</td>\n",
       "      <td>1.0</td>\n",
       "      <td>1.0</td>\n",
       "      <td>2.0</td>\n",
       "      <td>7.0</td>\n",
       "      <td>12573.0</td>\n",
       "      <td>207.479634</td>\n",
       "    </tr>\n",
       "    <tr>\n",
       "      <th>time_mins</th>\n",
       "      <td>87489.0</td>\n",
       "      <td>417.497663</td>\n",
       "      <td>1.0</td>\n",
       "      <td>142.0</td>\n",
       "      <td>386.0</td>\n",
       "      <td>584.0</td>\n",
       "      <td>8595.0</td>\n",
       "      <td>364.559399</td>\n",
       "    </tr>\n",
       "  </tbody>\n",
       "</table>\n",
       "</div>"
      ],
      "text/plain": [
       "               count                           mean                  min                  25%                  50%                  75%                  max         std\n",
       "releasedate    87489  2018-06-22 01:35:29.780886528  1998-12-27 00:00:00  2016-08-30 00:00:00  2020-01-30 00:00:00  2021-08-04 00:00:00  2025-11-14 00:00:00         NaN\n",
       "price        87489.0                     559.009246                  0.0                268.0                585.0                755.0               7198.0  336.096642\n",
       "n_ratings    15072.0                       21.61319                  1.0                  1.0                  2.0                  7.0              12573.0  207.479634\n",
       "time_mins    87489.0                     417.497663                  1.0                142.0                386.0                584.0               8595.0  364.559399"
      ]
     },
     "metadata": {},
     "execution_count": 71
    }
   ],
   "metadata": {}
  },
  {
   "cell_type": "code",
   "execution_count": 72,
   "source": [
    "df.describe(exclude = [np.number]).T"
   ],
   "outputs": [
    {
     "output_type": "execute_result",
     "data": {
      "text/html": [
       "<div>\n",
       "<style scoped>\n",
       "    .dataframe tbody tr th:only-of-type {\n",
       "        vertical-align: middle;\n",
       "    }\n",
       "\n",
       "    .dataframe tbody tr th {\n",
       "        vertical-align: top;\n",
       "    }\n",
       "\n",
       "    .dataframe thead th {\n",
       "        text-align: right;\n",
       "    }\n",
       "</style>\n",
       "<table border=\"1\" class=\"dataframe\">\n",
       "  <thead>\n",
       "    <tr style=\"text-align: right;\">\n",
       "      <th></th>\n",
       "      <th>count</th>\n",
       "      <th>unique</th>\n",
       "      <th>top</th>\n",
       "      <th>freq</th>\n",
       "      <th>mean</th>\n",
       "      <th>min</th>\n",
       "      <th>25%</th>\n",
       "      <th>50%</th>\n",
       "      <th>75%</th>\n",
       "      <th>max</th>\n",
       "    </tr>\n",
       "  </thead>\n",
       "  <tbody>\n",
       "    <tr>\n",
       "      <th>name</th>\n",
       "      <td>87489</td>\n",
       "      <td>82767</td>\n",
       "      <td>The Art of War</td>\n",
       "      <td>20</td>\n",
       "      <td>NaT</td>\n",
       "      <td>NaT</td>\n",
       "      <td>NaT</td>\n",
       "      <td>NaT</td>\n",
       "      <td>NaT</td>\n",
       "      <td>NaT</td>\n",
       "    </tr>\n",
       "    <tr>\n",
       "      <th>author</th>\n",
       "      <td>87489</td>\n",
       "      <td>48374</td>\n",
       "      <td>矢島雅弘,石橋遊</td>\n",
       "      <td>874</td>\n",
       "      <td>NaT</td>\n",
       "      <td>NaT</td>\n",
       "      <td>NaT</td>\n",
       "      <td>NaT</td>\n",
       "      <td>NaT</td>\n",
       "      <td>NaT</td>\n",
       "    </tr>\n",
       "    <tr>\n",
       "      <th>narrator</th>\n",
       "      <td>87489</td>\n",
       "      <td>29717</td>\n",
       "      <td>anonymous</td>\n",
       "      <td>1034</td>\n",
       "      <td>NaT</td>\n",
       "      <td>NaT</td>\n",
       "      <td>NaT</td>\n",
       "      <td>NaT</td>\n",
       "      <td>NaT</td>\n",
       "      <td>NaT</td>\n",
       "    </tr>\n",
       "    <tr>\n",
       "      <th>releasedate</th>\n",
       "      <td>87489</td>\n",
       "      <td>NaN</td>\n",
       "      <td>NaN</td>\n",
       "      <td>NaN</td>\n",
       "      <td>2018-06-22 01:35:29.780886528</td>\n",
       "      <td>1998-12-27</td>\n",
       "      <td>2016-08-30</td>\n",
       "      <td>2020-01-30</td>\n",
       "      <td>2021-08-04</td>\n",
       "      <td>2025-11-14</td>\n",
       "    </tr>\n",
       "    <tr>\n",
       "      <th>language</th>\n",
       "      <td>87489</td>\n",
       "      <td>36</td>\n",
       "      <td>English</td>\n",
       "      <td>61884</td>\n",
       "      <td>NaT</td>\n",
       "      <td>NaT</td>\n",
       "      <td>NaT</td>\n",
       "      <td>NaT</td>\n",
       "      <td>NaT</td>\n",
       "      <td>NaT</td>\n",
       "    </tr>\n",
       "    <tr>\n",
       "      <th>rating_stars</th>\n",
       "      <td>15072.0</td>\n",
       "      <td>9.0</td>\n",
       "      <td>5.0</td>\n",
       "      <td>6761.0</td>\n",
       "      <td>NaT</td>\n",
       "      <td>NaT</td>\n",
       "      <td>NaT</td>\n",
       "      <td>NaT</td>\n",
       "      <td>NaT</td>\n",
       "      <td>NaT</td>\n",
       "    </tr>\n",
       "  </tbody>\n",
       "</table>\n",
       "</div>"
      ],
      "text/plain": [
       "                count unique             top    freq                          mean        min        25%        50%        75%        max\n",
       "name            87489  82767  The Art of War      20                           NaT        NaT        NaT        NaT        NaT        NaT\n",
       "author          87489  48374        矢島雅弘,石橋遊     874                           NaT        NaT        NaT        NaT        NaT        NaT\n",
       "narrator        87489  29717       anonymous    1034                           NaT        NaT        NaT        NaT        NaT        NaT\n",
       "releasedate     87489    NaN             NaN     NaN 2018-06-22 01:35:29.780886528 1998-12-27 2016-08-30 2020-01-30 2021-08-04 2025-11-14\n",
       "language        87489     36         English   61884                           NaT        NaT        NaT        NaT        NaT        NaT\n",
       "rating_stars  15072.0    9.0             5.0  6761.0                           NaT        NaT        NaT        NaT        NaT        NaT"
      ]
     },
     "metadata": {},
     "execution_count": 72
    }
   ],
   "metadata": {}
  },
  {
   "cell_type": "code",
   "execution_count": 73,
   "source": [
    "#Bu alıştırma için fiyatları USD'ye çevireceğiz. 1 USD = 0,012 INR döviz kurunu kullanabiliriz"
   ],
   "outputs": [],
   "metadata": {}
  },
  {
   "cell_type": "code",
   "execution_count": 74,
   "source": [
    "df[\"price\"] = df[\"price\"] * 0.012"
   ],
   "outputs": [],
   "metadata": {}
  },
  {
   "cell_type": "code",
   "execution_count": 75,
   "source": [
    "df[\"price\"].describe()"
   ],
   "outputs": [
    {
     "output_type": "execute_result",
     "data": {
      "text/plain": [
       "count    87489.000000\n",
       "mean         6.708111\n",
       "std          4.033160\n",
       "min          0.000000\n",
       "25%          3.216000\n",
       "50%          7.020000\n",
       "75%          9.060000\n",
       "max         86.376000\n",
       "Name: price, dtype: float64"
      ]
     },
     "metadata": {},
     "execution_count": 75
    }
   ],
   "metadata": {}
  },
  {
   "cell_type": "code",
   "execution_count": 76,
   "source": [
    "df[\"language\"].unique()"
   ],
   "outputs": [
    {
     "output_type": "execute_result",
     "data": {
      "text/plain": [
       "array(['English', 'Hindi', 'spanish', 'german', 'french', 'catalan',\n",
       "       'swedish', 'italian', 'danish', 'finnish', 'dutch', 'hebrew',\n",
       "       'russian', 'polish', 'galician', 'afrikaans', 'icelandic',\n",
       "       'romanian', 'japanese', 'tamil', 'portuguese', 'urdu', 'hungarian',\n",
       "       'czech', 'bulgarian', 'mandarin_chinese', 'basque', 'korean',\n",
       "       'arabic', 'greek', 'turkish', 'ukrainian', 'slovene', 'norwegian',\n",
       "       'telugu', 'lithuanian'], dtype=object)"
      ]
     },
     "metadata": {},
     "execution_count": 76
    }
   ],
   "metadata": {}
  },
  {
   "cell_type": "code",
   "execution_count": 77,
   "source": [
    "#Dil sütunundaki değerler farklı büyük harf kullanımına sahiptir. Bunu düzeltelim."
   ],
   "outputs": [],
   "metadata": {}
  },
  {
   "cell_type": "code",
   "execution_count": 78,
   "source": [
    "df[\"language\"] = df[\"language\"].str.capitalize()"
   ],
   "outputs": [],
   "metadata": {}
  },
  {
   "cell_type": "code",
   "execution_count": 79,
   "source": [
    "df[\"language\"].unique()"
   ],
   "outputs": [
    {
     "output_type": "execute_result",
     "data": {
      "text/plain": [
       "array(['English', 'Hindi', 'Spanish', 'German', 'French', 'Catalan',\n",
       "       'Swedish', 'Italian', 'Danish', 'Finnish', 'Dutch', 'Hebrew',\n",
       "       'Russian', 'Polish', 'Galician', 'Afrikaans', 'Icelandic',\n",
       "       'Romanian', 'Japanese', 'Tamil', 'Portuguese', 'Urdu', 'Hungarian',\n",
       "       'Czech', 'Bulgarian', 'Mandarin_chinese', 'Basque', 'Korean',\n",
       "       'Arabic', 'Greek', 'Turkish', 'Ukrainian', 'Slovene', 'Norwegian',\n",
       "       'Telugu', 'Lithuanian'], dtype=object)"
      ]
     },
     "metadata": {},
     "execution_count": 79
    }
   ],
   "metadata": {}
  },
  {
   "cell_type": "code",
   "execution_count": 80,
   "source": [
    "#Görev 7: Kopyaları kontrol etme"
   ],
   "outputs": [],
   "metadata": {}
  },
  {
   "cell_type": "code",
   "execution_count": 81,
   "source": [
    "#Kaç kopyamız var?"
   ],
   "outputs": [],
   "metadata": {}
  },
  {
   "cell_type": "code",
   "execution_count": 82,
   "source": [
    "df.duplicated().sum()"
   ],
   "outputs": [
    {
     "output_type": "execute_result",
     "data": {
      "text/plain": [
       "0"
      ]
     },
     "metadata": {},
     "execution_count": 82
    }
   ],
   "metadata": {}
  },
  {
   "cell_type": "code",
   "execution_count": 83,
   "source": [
    "#Yalnızca mantıklı olan sütunların bir alt kümesini kullanarak kopyaları aramak yararlıdır. Aşağıdaki sütun alt kümesini kullanacağız:"
   ],
   "outputs": [],
   "metadata": {}
  },
  {
   "cell_type": "code",
   "execution_count": 84,
   "source": [
    "#name, author, narrator, time_mins, price"
   ],
   "outputs": [],
   "metadata": {}
  },
  {
   "cell_type": "code",
   "execution_count": 85,
   "source": [
    "subset_cols = [\"name\", \"author\", \"narrator\", \"time_mins\", \"price\"]"
   ],
   "outputs": [],
   "metadata": {}
  },
  {
   "cell_type": "code",
   "execution_count": 86,
   "source": [
    "df.duplicated(subset = subset_cols).sum()"
   ],
   "outputs": [
    {
     "output_type": "execute_result",
     "data": {
      "text/plain": [
       "70"
      ]
     },
     "metadata": {},
     "execution_count": 86
    }
   ],
   "metadata": {}
  },
  {
   "cell_type": "code",
   "execution_count": 87,
   "source": [
    "#Şimdi bu değerlere bakalım (keep=false kullanın) ve neler olup bittiğini görelim:"
   ],
   "outputs": [],
   "metadata": {}
  },
  {
   "cell_type": "code",
   "execution_count": 88,
   "source": [
    "df[df.duplicated(subset = subset_cols, keep = False)].sort_values(by = \"name\")"
   ],
   "outputs": [
    {
     "output_type": "execute_result",
     "data": {
      "text/html": [
       "<div>\n",
       "<style scoped>\n",
       "    .dataframe tbody tr th:only-of-type {\n",
       "        vertical-align: middle;\n",
       "    }\n",
       "\n",
       "    .dataframe tbody tr th {\n",
       "        vertical-align: top;\n",
       "    }\n",
       "\n",
       "    .dataframe thead th {\n",
       "        text-align: right;\n",
       "    }\n",
       "</style>\n",
       "<table border=\"1\" class=\"dataframe\">\n",
       "  <thead>\n",
       "    <tr style=\"text-align: right;\">\n",
       "      <th></th>\n",
       "      <th>name</th>\n",
       "      <th>author</th>\n",
       "      <th>narrator</th>\n",
       "      <th>releasedate</th>\n",
       "      <th>language</th>\n",
       "      <th>price</th>\n",
       "      <th>rating_stars</th>\n",
       "      <th>n_ratings</th>\n",
       "      <th>time_mins</th>\n",
       "    </tr>\n",
       "  </thead>\n",
       "  <tbody>\n",
       "    <tr>\n",
       "      <th>63978</th>\n",
       "      <td>\"Das Böse ist des Menschen beste Kraft\"</td>\n",
       "      <td>ChristianLiederer</td>\n",
       "      <td>ThomasKrause</td>\n",
       "      <td>2021-12-14</td>\n",
       "      <td>German</td>\n",
       "      <td>2.796</td>\n",
       "      <td>NaN</td>\n",
       "      <td>NaN</td>\n",
       "      <td>144</td>\n",
       "    </tr>\n",
       "    <tr>\n",
       "      <th>63965</th>\n",
       "      <td>\"Das Böse ist des Menschen beste Kraft\"</td>\n",
       "      <td>ChristianLiederer</td>\n",
       "      <td>ThomasKrause</td>\n",
       "      <td>2021-12-23</td>\n",
       "      <td>German</td>\n",
       "      <td>2.796</td>\n",
       "      <td>NaN</td>\n",
       "      <td>NaN</td>\n",
       "      <td>144</td>\n",
       "    </tr>\n",
       "    <tr>\n",
       "      <th>24625</th>\n",
       "      <td>90 Minutes in Heaven</td>\n",
       "      <td>DonPiper,CecilMurphey</td>\n",
       "      <td>DonPiper</td>\n",
       "      <td>2015-09-25</td>\n",
       "      <td>English</td>\n",
       "      <td>7.032</td>\n",
       "      <td>NaN</td>\n",
       "      <td>NaN</td>\n",
       "      <td>495</td>\n",
       "    </tr>\n",
       "    <tr>\n",
       "      <th>24116</th>\n",
       "      <td>90 Minutes in Heaven</td>\n",
       "      <td>DonPiper,CecilMurphey</td>\n",
       "      <td>DonPiper</td>\n",
       "      <td>2020-10-15</td>\n",
       "      <td>English</td>\n",
       "      <td>7.032</td>\n",
       "      <td>NaN</td>\n",
       "      <td>NaN</td>\n",
       "      <td>495</td>\n",
       "    </tr>\n",
       "    <tr>\n",
       "      <th>16971</th>\n",
       "      <td>Adagio in Dm</td>\n",
       "      <td>BillBrown</td>\n",
       "      <td>BillBrown</td>\n",
       "      <td>2021-06-08</td>\n",
       "      <td>English</td>\n",
       "      <td>5.472</td>\n",
       "      <td>NaN</td>\n",
       "      <td>NaN</td>\n",
       "      <td>78</td>\n",
       "    </tr>\n",
       "    <tr>\n",
       "      <th>...</th>\n",
       "      <td>...</td>\n",
       "      <td>...</td>\n",
       "      <td>...</td>\n",
       "      <td>...</td>\n",
       "      <td>...</td>\n",
       "      <td>...</td>\n",
       "      <td>...</td>\n",
       "      <td>...</td>\n",
       "      <td>...</td>\n",
       "    </tr>\n",
       "    <tr>\n",
       "      <th>18338</th>\n",
       "      <td>What I Talk About When I Talk About Running</td>\n",
       "      <td>HarukiMurakami</td>\n",
       "      <td>RayPorter</td>\n",
       "      <td>2016-07-07</td>\n",
       "      <td>English</td>\n",
       "      <td>4.776</td>\n",
       "      <td>4.5</td>\n",
       "      <td>193.0</td>\n",
       "      <td>263</td>\n",
       "    </tr>\n",
       "    <tr>\n",
       "      <th>38021</th>\n",
       "      <td>When Women Ruled the World</td>\n",
       "      <td>KaraCooney</td>\n",
       "      <td>KaraCooney</td>\n",
       "      <td>2018-11-30</td>\n",
       "      <td>English</td>\n",
       "      <td>10.032</td>\n",
       "      <td>4.5</td>\n",
       "      <td>14.0</td>\n",
       "      <td>555</td>\n",
       "    </tr>\n",
       "    <tr>\n",
       "      <th>20260</th>\n",
       "      <td>When Women Ruled the World</td>\n",
       "      <td>KaraCooney</td>\n",
       "      <td>KaraCooney</td>\n",
       "      <td>2018-11-30</td>\n",
       "      <td>English</td>\n",
       "      <td>10.032</td>\n",
       "      <td>4.5</td>\n",
       "      <td>13.0</td>\n",
       "      <td>555</td>\n",
       "    </tr>\n",
       "    <tr>\n",
       "      <th>22158</th>\n",
       "      <td>Wings of Fire</td>\n",
       "      <td>APJAbdulKalam,ArunTiwari</td>\n",
       "      <td>GirishKarnad</td>\n",
       "      <td>2020-01-04</td>\n",
       "      <td>English</td>\n",
       "      <td>0.900</td>\n",
       "      <td>5.0</td>\n",
       "      <td>1823.0</td>\n",
       "      <td>75</td>\n",
       "    </tr>\n",
       "    <tr>\n",
       "      <th>64428</th>\n",
       "      <td>Wings of Fire</td>\n",
       "      <td>APJAbdulKalam,ArunTiwari</td>\n",
       "      <td>GirishKarnad</td>\n",
       "      <td>2020-01-04</td>\n",
       "      <td>English</td>\n",
       "      <td>0.900</td>\n",
       "      <td>5.0</td>\n",
       "      <td>1827.0</td>\n",
       "      <td>75</td>\n",
       "    </tr>\n",
       "  </tbody>\n",
       "</table>\n",
       "<p>139 rows × 9 columns</p>\n",
       "</div>"
      ],
      "text/plain": [
       "                                              name                    author      narrator releasedate language   price rating_stars  n_ratings  time_mins\n",
       "63978      \"Das Böse ist des Menschen beste Kraft\"         ChristianLiederer  ThomasKrause  2021-12-14   German   2.796          NaN        NaN        144\n",
       "63965      \"Das Böse ist des Menschen beste Kraft\"         ChristianLiederer  ThomasKrause  2021-12-23   German   2.796          NaN        NaN        144\n",
       "24625                         90 Minutes in Heaven     DonPiper,CecilMurphey      DonPiper  2015-09-25  English   7.032          NaN        NaN        495\n",
       "24116                         90 Minutes in Heaven     DonPiper,CecilMurphey      DonPiper  2020-10-15  English   7.032          NaN        NaN        495\n",
       "16971                                 Adagio in Dm                 BillBrown     BillBrown  2021-06-08  English   5.472          NaN        NaN         78\n",
       "...                                            ...                       ...           ...         ...      ...     ...          ...        ...        ...\n",
       "18338  What I Talk About When I Talk About Running            HarukiMurakami     RayPorter  2016-07-07  English   4.776          4.5      193.0        263\n",
       "38021                   When Women Ruled the World                KaraCooney    KaraCooney  2018-11-30  English  10.032          4.5       14.0        555\n",
       "20260                   When Women Ruled the World                KaraCooney    KaraCooney  2018-11-30  English  10.032          4.5       13.0        555\n",
       "22158                                Wings of Fire  APJAbdulKalam,ArunTiwari  GirishKarnad  2020-01-04  English   0.900          5.0     1823.0         75\n",
       "64428                                Wings of Fire  APJAbdulKalam,ArunTiwari  GirishKarnad  2020-01-04  English   0.900          5.0     1827.0         75\n",
       "\n",
       "[139 rows x 9 columns]"
      ]
     },
     "metadata": {},
     "execution_count": 88
    }
   ],
   "metadata": {}
  },
  {
   "cell_type": "code",
   "execution_count": 89,
   "source": [
    "#Kopyaların farklı sürüm tarihlerine sahip dosyalar için olduğunu görebiliriz. Son çıkış tarihi ile kaydı tutmaya karar verebiliriz."
   ],
   "outputs": [],
   "metadata": {}
  },
  {
   "cell_type": "code",
   "execution_count": 90,
   "source": [
    "df.drop_duplicates(subset = subset_cols, keep = \"last\", inplace = True)"
   ],
   "outputs": [],
   "metadata": {}
  },
  {
   "cell_type": "code",
   "execution_count": 91,
   "source": [
    "df.duplicated(subset = subset_cols).sum()"
   ],
   "outputs": [
    {
     "output_type": "execute_result",
     "data": {
      "text/plain": [
       "0"
      ]
     },
     "metadata": {},
     "execution_count": 91
    }
   ],
   "metadata": {}
  },
  {
   "cell_type": "code",
   "execution_count": 92,
   "source": [
    "#Görev 8: Eksik verilerle ilgilenme"
   ],
   "outputs": [],
   "metadata": {}
  },
  {
   "cell_type": "code",
   "execution_count": 93,
   "source": [
    "#Bitirmeden önce sütunlarımızdaki eksik verilere bir göz atalım"
   ],
   "outputs": [],
   "metadata": {}
  },
  {
   "cell_type": "code",
   "execution_count": 94,
   "source": [
    "df.isna().sum()"
   ],
   "outputs": [
    {
     "output_type": "execute_result",
     "data": {
      "text/plain": [
       "name                0\n",
       "author              0\n",
       "narrator            0\n",
       "releasedate         0\n",
       "language            0\n",
       "price               0\n",
       "rating_stars    72387\n",
       "n_ratings       72387\n",
       "time_mins           0\n",
       "dtype: int64"
      ]
     },
     "metadata": {},
     "execution_count": 94
    }
   ],
   "metadata": {}
  },
  {
   "cell_type": "code",
   "execution_count": 95,
   "source": [
    "#NaN değerlerini 0 veya başka bir sayısal değere çevirebilir veya tutabiliriz. Kullanım durumumuza bağlıdır."
   ],
   "outputs": [],
   "metadata": {}
  },
  {
   "cell_type": "code",
   "execution_count": 96,
   "source": [
    "#Derecelendirme dağılımını çizmek istiyorsak, derecelendirmesi olmayan sesli kitapları bırakmak mantıklı olabilir. Ancak analizimiz için fiyat dağılımını kullanmamız gerekirse, derecelendirmesiz sesli kitapların kaldırılması sonuçlarımıza yanlılık katacaktır (çünkü derecelendirilmemiş sesli kitaplar muhtemelen daha niştir ve derecelendirilmiş sesli kitaplardan farklı bir fiyatlandırma yapısına sahip olabilir)."
   ],
   "outputs": [],
   "metadata": {}
  },
  {
   "cell_type": "code",
   "execution_count": 97,
   "source": [
    "#Derecelendirilmemiş sesli kitapları şimdilik elimizde tutacağız."
   ],
   "outputs": [],
   "metadata": {}
  },
  {
   "cell_type": "code",
   "execution_count": 98,
   "source": [
    "#Görev 9: Temizlenen veri setini kaydedin"
   ],
   "outputs": [],
   "metadata": {}
  },
  {
   "cell_type": "code",
   "execution_count": 99,
   "source": [
    "#Temiz dosyayı kaydetmek için .to_csv yöntemini kullanabiliriz. Geçerli dizini hedef dosyamıza da kopyalamamak için index=False öğesini ekleriz."
   ],
   "outputs": [],
   "metadata": {}
  },
  {
   "cell_type": "code",
   "execution_count": 100,
   "source": [
    "df.to_csv(\"D:\\DataAnalysis\\CleaningDatainPython\\\\audible_cleaned.csv\", index = False)"
   ],
   "outputs": [],
   "metadata": {}
  }
 ],
 "nbformat": 4,
 "nbformat_minor": 2,
 "metadata": {
  "language_info": {
   "codemirror_mode": {
    "name": "ipython",
    "version": 3
   },
   "file_extension": ".py",
   "mimetype": "text/x-python",
   "name": "python",
   "nbconvert_exporter": "python",
   "pygments_lexer": "ipython3",
   "version": 3
  },
  "orig_nbformat": 4
 }
}